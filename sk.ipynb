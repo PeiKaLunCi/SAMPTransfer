{
 "cells": [
  {
   "cell_type": "markdown",
   "id": "073ab7ec-d661-4826-87d1-9531e2aae2e8",
   "metadata": {},
   "source": [
    "# Analysing our trainable prototypes"
   ]
  },
  {
   "cell_type": "code",
   "execution_count": 1,
   "id": "aa5b0614-6068-4ba7-a828-3051dc1dd347",
   "metadata": {},
   "outputs": [],
   "source": [
    "import torch\n",
    "from utils.sup_finetuning import Classifier\n",
    "import einops"
   ]
  },
  {
   "cell_type": "code",
   "execution_count": 2,
   "id": "bae73612-6bc5-4450-80d2-7ae58f4ae3da",
   "metadata": {},
   "outputs": [],
   "source": [
    "c = Classifier(512, 5)"
   ]
  },
  {
   "cell_type": "code",
   "execution_count": 3,
   "id": "59e86273-8bda-475a-b853-239a155149a9",
   "metadata": {},
   "outputs": [],
   "source": [
    "x = torch.randn(5, 5, 512)"
   ]
  },
  {
   "cell_type": "code",
   "execution_count": 49,
   "id": "9416a440-aea3-41a6-a74a-4c6f9007fd29",
   "metadata": {},
   "outputs": [],
   "source": [
    "protos = x.mean(1)"
   ]
  },
  {
   "cell_type": "code",
   "execution_count": 5,
   "id": "627acedf-1f88-4fcf-b09d-4cb0ee92f7c0",
   "metadata": {},
   "outputs": [
    {
     "data": {
      "text/plain": [
       "torch.Size([25, 512])"
      ]
     },
     "execution_count": 5,
     "metadata": {},
     "output_type": "execute_result"
    }
   ],
   "source": [
    "x = einops.rearrange(x, \"c s e -> (c s) e\")\n",
    "x.shape"
   ]
  },
  {
   "cell_type": "code",
   "execution_count": 6,
   "id": "a37f09f9-01ed-4b0a-8d10-945e19692589",
   "metadata": {},
   "outputs": [],
   "source": [
    "c.init_params_from_prototypes(x, 5, 5)"
   ]
  },
  {
   "cell_type": "code",
   "execution_count": 7,
   "id": "48507970-72e1-4d2c-b3bc-a5503e4b4007",
   "metadata": {},
   "outputs": [
    {
     "data": {
      "text/plain": [
       "Parameter containing:\n",
       "tensor([[ 0.5491,  1.0450,  0.0804,  ...,  0.5097, -0.7651,  0.5821],\n",
       "        [-2.0117, -1.7803,  0.5387,  ...,  0.9011,  1.0330,  0.6310],\n",
       "        [-1.0230, -2.1573,  0.2695,  ...,  0.6123,  1.1428, -0.6075],\n",
       "        [-0.4493,  0.5694,  1.0883,  ..., -0.2787,  0.0188,  0.2655],\n",
       "        [ 0.0794, -2.2574, -1.1109,  ..., -0.2563, -0.1068, -0.9108]],\n",
       "       requires_grad=True)"
      ]
     },
     "execution_count": 7,
     "metadata": {},
     "output_type": "execute_result"
    }
   ],
   "source": [
    "c.fc.weight"
   ]
  },
  {
   "cell_type": "code",
   "execution_count": 8,
   "id": "b668bbaf-04a6-40b9-b94d-b2e52c72fb28",
   "metadata": {},
   "outputs": [
    {
     "data": {
      "text/plain": [
       "tensor([[ 0.5491,  1.0450,  0.0804,  ...,  0.5097, -0.7651,  0.5821],\n",
       "        [-2.0117, -1.7803,  0.5387,  ...,  0.9011,  1.0330,  0.6310],\n",
       "        [-1.0230, -2.1573,  0.2695,  ...,  0.6123,  1.1428, -0.6075],\n",
       "        [-0.4493,  0.5694,  1.0883,  ..., -0.2787,  0.0188,  0.2655],\n",
       "        [ 0.0794, -2.2574, -1.1109,  ..., -0.2563, -0.1068, -0.9108]])"
      ]
     },
     "execution_count": 8,
     "metadata": {},
     "output_type": "execute_result"
    }
   ],
   "source": [
    "einops.rearrange(x, \"(c s) e -> c s e\", c=5, s=5).mean(1) * 2"
   ]
  },
  {
   "cell_type": "code",
   "execution_count": 11,
   "id": "f4aa803f-c37a-4837-bcd0-5e3bcd33ddde",
   "metadata": {},
   "outputs": [],
   "source": [
    "m = torch.nn.utils.weight_norm(c.fc)"
   ]
  },
  {
   "cell_type": "code",
   "execution_count": 12,
   "id": "1f95c662-bdfb-4363-9bf3-f62ace345dc2",
   "metadata": {},
   "outputs": [
    {
     "data": {
      "text/plain": [
       "Parameter containing:\n",
       "tensor([[18.8429],\n",
       "        [20.0234],\n",
       "        [19.0432],\n",
       "        [20.5469],\n",
       "        [22.1594]], requires_grad=True)"
      ]
     },
     "execution_count": 12,
     "metadata": {},
     "output_type": "execute_result"
    }
   ],
   "source": [
    "m.weight_g"
   ]
  },
  {
   "cell_type": "code",
   "execution_count": 15,
   "id": "a368e1f9-7970-4cde-ae14-e405a87fb5bd",
   "metadata": {},
   "outputs": [
    {
     "data": {
      "text/plain": [
       "Parameter containing:\n",
       "tensor([[ 0.5491,  1.0450,  0.0804,  ...,  0.5097, -0.7651,  0.5821],\n",
       "        [-2.0117, -1.7803,  0.5387,  ...,  0.9011,  1.0330,  0.6310],\n",
       "        [-1.0230, -2.1573,  0.2695,  ...,  0.6123,  1.1428, -0.6075],\n",
       "        [-0.4493,  0.5694,  1.0883,  ..., -0.2787,  0.0188,  0.2655],\n",
       "        [ 0.0794, -2.2574, -1.1109,  ..., -0.2563, -0.1068, -0.9108]],\n",
       "       requires_grad=True)"
      ]
     },
     "execution_count": 15,
     "metadata": {},
     "output_type": "execute_result"
    }
   ],
   "source": [
    "m.weight_v"
   ]
  },
  {
   "cell_type": "code",
   "execution_count": 27,
   "id": "637b1779-e4d4-4917-b7ab-cd72a646c4fb",
   "metadata": {},
   "outputs": [
    {
     "name": "stdout",
     "output_type": "stream",
     "text": [
      "The autoreload extension is already loaded. To reload it, use:\n",
      "  %reload_ext autoreload\n"
     ]
    }
   ],
   "source": [
    "import torch\n",
    "import pytorch_lightning as pl\n",
    "from protoclr_obow import PCLROBoW\n",
    "from clr_gat import CLRGAT\n",
    "from feature_extractors import feature_extractor\n",
    "from omegaconf import OmegaConf\n",
    "from dataloaders import UnlabelledDataset, UnlabelledDataModule\n",
    "import seaborn as sns\n",
    "import matplotlib.pyplot as plt\n",
    "import umap\n",
    "\n",
    "%matplotlib inline\n",
    "%load_ext autoreload"
   ]
  },
  {
   "cell_type": "code",
   "execution_count": null,
   "id": "76b777d2-9a3d-48b9-88f0-53580de0ad1a",
   "metadata": {},
   "outputs": [],
   "source": [
    "OmegaConf.register_new_resolver(\"uuid\", lambda : \"123\")"
   ]
  },
  {
   "cell_type": "code",
   "execution_count": 17,
   "id": "fa06df16-8ff9-408d-acd8-3f42441e4383",
   "metadata": {},
   "outputs": [
    {
     "name": "stderr",
     "output_type": "stream",
     "text": [
      "Global seed set to 72\n"
     ]
    },
    {
     "data": {
      "text/plain": [
       "72"
      ]
     },
     "execution_count": 17,
     "metadata": {},
     "output_type": "execute_result"
    }
   ],
   "source": [
    "pl.seed_everything(72)"
   ]
  },
  {
   "cell_type": "code",
   "execution_count": 30,
   "id": "86bb5a90-680d-4019-a294-e682cf791d9a",
   "metadata": {},
   "outputs": [],
   "source": [
    "sys.modules[\"bow.feature_extractor\"] = feature_extractor"
   ]
  },
  {
   "cell_type": "code",
   "execution_count": 31,
   "id": "b9a7c5a4-e659-431d-a9bc-27644c848c13",
   "metadata": {
    "ExecuteTime": {
     "end_time": "2022-04-29T20:43:56.223790Z",
     "start_time": "2022-04-29T20:43:54.416220Z"
    },
    "pycharm": {
     "name": "#%%\n"
    }
   },
   "outputs": [],
   "source": [
    "ckp = torch.load(\"ckpts/cnn.ckpt\", map_location=\"cpu\")"
   ]
  },
  {
   "cell_type": "code",
   "execution_count": 32,
   "id": "0af14348-fcfd-4ec3-ab8e-cc3e47639780",
   "metadata": {},
   "outputs": [],
   "source": [
    "state_keys = list(ckp[\"state_dict\"].keys())"
   ]
  },
  {
   "cell_type": "code",
   "execution_count": 33,
   "id": "74fbd26d-b5f7-4bdf-910f-c2a6ca025f7f",
   "metadata": {},
   "outputs": [],
   "source": [
    "for _, k in enumerate(state_keys):\n",
    "    newkey = f\"model.{k}\"\n",
    "    ckp[\"state_dict\"][newkey] = ckp[\"state_dict\"].pop(k)"
   ]
  },
  {
   "cell_type": "code",
   "execution_count": 34,
   "id": "f1d3c9e7-7539-4707-a31b-8160951501ed",
   "metadata": {
    "ExecuteTime": {
     "end_time": "2022-04-29T20:43:59.300893Z",
     "start_time": "2022-04-29T20:43:58.215884Z"
    },
    "pycharm": {
     "name": "#%%\n"
    }
   },
   "outputs": [],
   "source": [
    "from clr_gat import CLRGAT"
   ]
  },
  {
   "cell_type": "code",
   "execution_count": 35,
   "id": "8ef11968-55d5-45e7-b4d9-9ac105652ab9",
   "metadata": {
    "ExecuteTime": {
     "end_time": "2022-04-29T20:43:59.760325Z",
     "start_time": "2022-04-29T20:43:59.754391Z"
    },
    "pycharm": {
     "name": "#%%\n"
    }
   },
   "outputs": [
    {
     "ename": "ValueError",
     "evalue": "resolver 'uuid' is already registered",
     "output_type": "error",
     "traceback": [
      "\u001b[0;31m---------------------------------------------------------------------------\u001b[0m",
      "\u001b[0;31mValueError\u001b[0m                                Traceback (most recent call last)",
      "Input \u001b[0;32mIn [35]\u001b[0m, in \u001b[0;36m<cell line: 2>\u001b[0;34m()\u001b[0m\n\u001b[1;32m      1\u001b[0m \u001b[38;5;28;01mfrom\u001b[39;00m \u001b[38;5;21;01momegaconf\u001b[39;00m \u001b[38;5;28;01mimport\u001b[39;00m OmegaConf\n\u001b[0;32m----> 2\u001b[0m \u001b[43mOmegaConf\u001b[49m\u001b[38;5;241;43m.\u001b[39;49m\u001b[43mregister_new_resolver\u001b[49m\u001b[43m(\u001b[49m\u001b[38;5;124;43m\"\u001b[39;49m\u001b[38;5;124;43muuid\u001b[39;49m\u001b[38;5;124;43m\"\u001b[39;49m\u001b[43m,\u001b[49m\u001b[43m \u001b[49m\u001b[38;5;28;43;01mlambda\u001b[39;49;00m\u001b[43m \u001b[49m\u001b[43m:\u001b[49m\u001b[43m \u001b[49m\u001b[38;5;124;43m\"\u001b[39;49m\u001b[38;5;124;43m123\u001b[39;49m\u001b[38;5;124;43m\"\u001b[39;49m\u001b[43m)\u001b[49m\n",
      "File \u001b[0;32m~/miniforge3/envs/ai/lib/python3.9/site-packages/omegaconf/omegaconf.py:396\u001b[0m, in \u001b[0;36mOmegaConf.register_new_resolver\u001b[0;34m(name, resolver, replace, use_cache)\u001b[0m\n\u001b[1;32m    393\u001b[0m     \u001b[38;5;28;01mraise\u001b[39;00m \u001b[38;5;167;01mValueError\u001b[39;00m(\u001b[38;5;124m\"\u001b[39m\u001b[38;5;124mcannot use an empty resolver name\u001b[39m\u001b[38;5;124m\"\u001b[39m)\n\u001b[1;32m    395\u001b[0m \u001b[38;5;28;01mif\u001b[39;00m \u001b[38;5;129;01mnot\u001b[39;00m replace \u001b[38;5;129;01mand\u001b[39;00m OmegaConf\u001b[38;5;241m.\u001b[39mhas_resolver(name):\n\u001b[0;32m--> 396\u001b[0m     \u001b[38;5;28;01mraise\u001b[39;00m \u001b[38;5;167;01mValueError\u001b[39;00m(\u001b[38;5;124mf\u001b[39m\u001b[38;5;124m\"\u001b[39m\u001b[38;5;124mresolver \u001b[39m\u001b[38;5;124m'\u001b[39m\u001b[38;5;132;01m{\u001b[39;00mname\u001b[38;5;132;01m}\u001b[39;00m\u001b[38;5;124m'\u001b[39m\u001b[38;5;124m is already registered\u001b[39m\u001b[38;5;124m\"\u001b[39m)\n\u001b[1;32m    398\u001b[0m \u001b[38;5;28;01mtry\u001b[39;00m:\n\u001b[1;32m    399\u001b[0m     sig: Optional[inspect\u001b[38;5;241m.\u001b[39mSignature] \u001b[38;5;241m=\u001b[39m inspect\u001b[38;5;241m.\u001b[39msignature(resolver)\n",
      "\u001b[0;31mValueError\u001b[0m: resolver 'uuid' is already registered"
     ]
    }
   ],
   "source": [
    "from omegaconf import OmegaConf\n",
    "OmegaConf.register_new_resolver(\"uuid\", lambda : \"123\")"
   ]
  },
  {
   "cell_type": "code",
   "execution_count": 36,
   "id": "75ad79fd-182f-45d5-a1e1-a81c34467ab1",
   "metadata": {},
   "outputs": [
    {
     "data": {
      "text/plain": [
       "0.001"
      ]
     },
     "execution_count": 36,
     "metadata": {},
     "output_type": "execute_result"
    }
   ],
   "source": [
    "ckp[\"hyper_parameters\"].pop(\"inner_lr\")"
   ]
  },
  {
   "cell_type": "code",
   "execution_count": 37,
   "id": "57d01583-b5c0-49e8-b965-2fb56f1a0d4e",
   "metadata": {},
   "outputs": [
    {
     "name": "stdout",
     "output_type": "stream",
     "text": [
      "MultiHeadDotProduct\n"
     ]
    }
   ],
   "source": [
    "ckp[\"hyper_parameters\"][\"mpnn_dev\"] = \"cpu\"\n",
    "model = CLRGAT(**ckp[\"hyper_parameters\"])"
   ]
  },
  {
   "cell_type": "code",
   "execution_count": 39,
   "id": "1f101df3-6768-48cd-a9eb-76d89fa21451",
   "metadata": {},
   "outputs": [
    {
     "data": {
      "text/plain": [
       "<All keys matched successfully>"
      ]
     },
     "execution_count": 39,
     "metadata": {},
     "output_type": "execute_result"
    }
   ],
   "source": [
    "model.load_state_dict(ckp[\"state_dict\"])"
   ]
  },
  {
   "cell_type": "code",
   "execution_count": 41,
   "id": "97ca9d7f-1995-4d55-a8f7-436e4c6ec7a8",
   "metadata": {
    "pycharm": {
     "name": "#%%\n"
    }
   },
   "outputs": [],
   "source": [
    "from dataloaders import get_episode_loader"
   ]
  },
  {
   "cell_type": "code",
   "execution_count": 42,
   "id": "7ffdba0d-b58e-4afb-9f37-4a8fce7ecaa0",
   "metadata": {},
   "outputs": [
    {
     "name": "stdout",
     "output_type": "stream",
     "text": [
      "Supervised data loader for miniimagenet:train.\n"
     ]
    }
   ],
   "source": [
    "dl = get_episode_loader(\"miniimagenet\", \"../data\", 5, 5, 15, 1,\"train\",)"
   ]
  },
  {
   "cell_type": "code",
   "execution_count": 43,
   "id": "4e1bc621-c925-40ab-a4bd-d1e7cf108be2",
   "metadata": {},
   "outputs": [],
   "source": [
    "xs = next(iter(dl))"
   ]
  },
  {
   "cell_type": "code",
   "execution_count": 44,
   "id": "d0512d95-0427-4d16-9624-7c3cfb9d6c53",
   "metadata": {},
   "outputs": [],
   "source": [
    "x = xs[\"train\"][0].squeeze(0)\n",
    "y = xs[\"train\"][1].squeeze(0)"
   ]
  },
  {
   "cell_type": "code",
   "execution_count": 45,
   "id": "86a70ccc-99d7-4f28-a259-78c73db172e7",
   "metadata": {},
   "outputs": [
    {
     "data": {
      "text/plain": [
       "(torch.Size([25, 3, 84, 84]), torch.Size([25]))"
      ]
     },
     "execution_count": 45,
     "metadata": {},
     "output_type": "execute_result"
    }
   ],
   "source": [
    "x.shape, y.shape"
   ]
  },
  {
   "cell_type": "code",
   "execution_count": 47,
   "id": "5344ec5c-d4d1-4c1c-9de1-1f8540e5ba42",
   "metadata": {},
   "outputs": [],
   "source": [
    "from utils.sk_finetuning import sinkhorned_finetuning, euclidean_distance, SK"
   ]
  },
  {
   "cell_type": "code",
   "execution_count": 65,
   "id": "3b3020a7-b910-4727-8d47-b6adf92695a8",
   "metadata": {},
   "outputs": [],
   "source": [
    "z = model(x)"
   ]
  },
  {
   "cell_type": "code",
   "execution_count": 67,
   "id": "f7098824-235d-41be-bda9-e6371d43309a",
   "metadata": {},
   "outputs": [],
   "source": [
    "c = Classifier(1600, 5)"
   ]
  },
  {
   "cell_type": "code",
   "execution_count": 68,
   "id": "33c3cae8-8e74-48bc-ad59-5d5429767c58",
   "metadata": {},
   "outputs": [],
   "source": [
    "c.init_params_from_prototypes(z, 5, 5)"
   ]
  },
  {
   "cell_type": "code",
   "execution_count": 69,
   "id": "b33884e9-ed5a-4f96-86a6-b061adb56d25",
   "metadata": {},
   "outputs": [],
   "source": [
    "m = torch.nn.utils.weight_norm(c.fc)"
   ]
  },
  {
   "cell_type": "code",
   "execution_count": 70,
   "id": "07dc33ab-aaf6-4006-88ef-dbdc6e75f7b5",
   "metadata": {},
   "outputs": [
    {
     "data": {
      "text/plain": [
       "Parameter containing:\n",
       "tensor([[-0.0213, -0.0219, -0.0050,  ...,  0.0241, -0.0722,  0.0190],\n",
       "        [ 0.0060,  0.0049, -0.0036,  ..., -0.0104, -0.0042,  0.0059],\n",
       "        [ 0.0266, -0.0354,  0.0170,  ...,  0.0504, -0.0120, -0.0091],\n",
       "        [-0.0247,  0.0256, -0.0163,  ...,  0.0220, -0.0342, -0.0278],\n",
       "        [ 0.0060,  0.0018, -0.0174,  ..., -0.0229, -0.0622,  0.0200]],\n",
       "       requires_grad=True)"
      ]
     },
     "execution_count": 70,
     "metadata": {},
     "output_type": "execute_result"
    }
   ],
   "source": [
    "m.weight_v"
   ]
  },
  {
   "cell_type": "code",
   "execution_count": 75,
   "id": "aaaecddd-647b-43f6-90f5-8fe134035e38",
   "metadata": {},
   "outputs": [
    {
     "data": {
      "text/plain": [
       "torch.Size([5, 1600])"
      ]
     },
     "execution_count": 75,
     "metadata": {},
     "output_type": "execute_result"
    }
   ],
   "source": [
    "protos = m.weight_v\n",
    "protos.shape"
   ]
  },
  {
   "cell_type": "code",
   "execution_count": 77,
   "id": "c486f940-a831-4fdf-b25c-109914816117",
   "metadata": {},
   "outputs": [],
   "source": [
    "protos = einops.rearrange(protos, \"p e -> 1 p e\")\n",
    "z = z.unsqueeze(0)"
   ]
  },
  {
   "cell_type": "code",
   "execution_count": 78,
   "id": "20f71e5e-dfe4-4291-82b8-390bc4aca4b7",
   "metadata": {},
   "outputs": [],
   "source": [
    "dists = euclidean_distance(protos, z).squeeze(0)"
   ]
  },
  {
   "cell_type": "code",
   "execution_count": 79,
   "id": "42d39c0f-50e5-4521-84e2-a2f2e79ed615",
   "metadata": {},
   "outputs": [],
   "source": [
    "sk = SK()"
   ]
  },
  {
   "cell_type": "code",
   "execution_count": 81,
   "id": "15755abc-055b-41bd-ba34-d78af88102f2",
   "metadata": {},
   "outputs": [
    {
     "data": {
      "text/plain": [
       "(tensor([[2.6501e-09, 4.9425e-04, 9.9902e-01, 1.1603e-04, 3.7000e-04],\n",
       "         [5.6937e-11, 2.3512e-01, 2.8041e-03, 7.3721e-01, 2.4865e-02],\n",
       "         [2.1959e-07, 1.3729e-01, 2.1495e-01, 2.8295e-02, 6.1947e-01],\n",
       "         [5.1008e-08, 5.3235e-01, 4.5724e-01, 4.0467e-06, 1.0399e-02],\n",
       "         [2.2126e-12, 8.7157e-01, 7.3341e-02, 5.5048e-02, 3.7577e-05],\n",
       "         [7.5121e-02, 1.7411e-08, 3.1844e-02, 8.9302e-01, 1.6658e-05],\n",
       "         [9.8494e-01, 1.2671e-07, 1.3343e-02, 5.5661e-04, 1.1648e-03],\n",
       "         [2.8721e-01, 1.5998e-07, 2.1192e-01, 5.0087e-01, 1.8731e-06],\n",
       "         [5.0585e-01, 5.4965e-08, 8.5483e-02, 4.3914e-04, 4.0823e-01],\n",
       "         [5.1849e-03, 6.5397e-09, 4.2641e-02, 1.2462e-06, 9.5217e-01],\n",
       "         [2.3823e-01, 3.1445e-01, 2.4392e-14, 1.6782e-01, 2.7950e-01],\n",
       "         [7.7682e-01, 3.6804e-02, 8.6866e-09, 1.8519e-01, 1.1866e-03],\n",
       "         [2.0936e-01, 7.0634e-01, 2.3060e-08, 1.3723e-04, 8.4169e-02],\n",
       "         [9.5291e-01, 6.6465e-03, 8.6761e-09, 2.9142e-02, 1.1304e-02],\n",
       "         [2.3489e-01, 3.4460e-01, 2.1955e-10, 7.6148e-03, 4.1289e-01],\n",
       "         [7.3714e-02, 6.2851e-06, 5.3827e-03, 5.6776e-12, 9.2090e-01],\n",
       "         [1.6886e-01, 5.1914e-01, 2.0395e-01, 1.5825e-13, 1.0805e-01],\n",
       "         [1.2140e-01, 3.3410e-01, 4.6336e-01, 1.1070e-10, 8.1137e-02],\n",
       "         [9.8745e-02, 9.4307e-02, 3.7813e-02, 3.6321e-10, 7.6914e-01],\n",
       "         [1.1852e-02, 5.7736e-01, 3.7579e-01, 8.5327e-13, 3.5005e-02],\n",
       "         [2.2564e-01, 3.7872e-02, 6.5797e-01, 7.8517e-02, 5.1318e-08],\n",
       "         [2.6953e-01, 4.9152e-04, 7.2670e-01, 3.2812e-03, 1.9592e-10],\n",
       "         [8.4312e-01, 3.1245e-02, 1.2510e-01, 5.3919e-04, 4.5186e-07],\n",
       "         [1.1596e-04, 3.3272e-02, 1.7934e-01, 7.8727e-01, 2.2147e-10],\n",
       "         [6.1757e-04, 1.5988e-04, 4.6632e-05, 9.9918e-01, 1.2934e-09]]),\n",
       " torch.Size([25, 5]))"
      ]
     },
     "execution_count": 81,
     "metadata": {},
     "output_type": "execute_result"
    }
   ],
   "source": [
    "scores = sk(dists.t())\n",
    "scores, scores.shape"
   ]
  },
  {
   "cell_type": "code",
   "execution_count": 83,
   "id": "7ca4837d-ece0-4a0e-b51b-1fdfee7d6113",
   "metadata": {},
   "outputs": [
    {
     "data": {
      "text/plain": [
       "tensor([2, 3, 4, 1, 1, 3, 0, 3, 0, 4, 1, 0, 1, 0, 4, 4, 1, 2, 4, 1, 2, 2, 0, 3,\n",
       "        3])"
      ]
     },
     "execution_count": 83,
     "metadata": {},
     "output_type": "execute_result"
    }
   ],
   "source": [
    "_, preds = torch.max(scores, dim=1)\n",
    "preds"
   ]
  },
  {
   "cell_type": "code",
   "execution_count": 87,
   "id": "67eb9568-6f90-4cfd-9e63-d60f4e62d2e2",
   "metadata": {},
   "outputs": [
    {
     "data": {
      "text/plain": [
       "(tensor([0, 1, 2, 3, 4]), tensor([5, 6, 4, 5, 5]))"
      ]
     },
     "execution_count": 87,
     "metadata": {},
     "output_type": "execute_result"
    }
   ],
   "source": [
    "torch.unique(preds, return_counts=True)"
   ]
  },
  {
   "cell_type": "code",
   "execution_count": 90,
   "id": "81528aef-e3a9-44d7-acb3-fc4d3328b241",
   "metadata": {},
   "outputs": [
    {
     "data": {
      "text/plain": [
       "tensor([2, 2, 2, 2, 2, 3, 3, 3, 3, 3, 1, 1, 1, 1, 1, 0, 0, 0, 0, 0, 4, 4, 4, 4,\n",
       "        4])"
      ]
     },
     "execution_count": 90,
     "metadata": {},
     "output_type": "execute_result"
    }
   ],
   "source": [
    "y"
   ]
  },
  {
   "cell_type": "code",
   "execution_count": null,
   "id": "016f551d-81aa-48eb-9179-6daa33c0e8fe",
   "metadata": {},
   "outputs": [],
   "source": []
  }
 ],
 "metadata": {
  "kernelspec": {
   "display_name": "Python 3 (ipykernel)",
   "language": "python",
   "name": "python3"
  },
  "language_info": {
   "codemirror_mode": {
    "name": "ipython",
    "version": 3
   },
   "file_extension": ".py",
   "mimetype": "text/x-python",
   "name": "python",
   "nbconvert_exporter": "python",
   "pygments_lexer": "ipython3",
   "version": "3.9.12"
  }
 },
 "nbformat": 4,
 "nbformat_minor": 5
}
