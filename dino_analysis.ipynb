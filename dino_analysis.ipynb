{
 "cells": [
  {
   "cell_type": "code",
   "execution_count": 1,
   "id": "5bddcb5e-c5ce-40eb-8db8-f956d4c6bf47",
   "metadata": {
    "pycharm": {
     "name": "#%%\n"
    }
   },
   "outputs": [],
   "source": [
    "import torch\n",
    "import einops\n",
    "import seaborn as sns\n",
    "import matplotlib.pyplot as plt\n",
    "from omegaconf import OmegaConf\n",
    "from dino import DINO\n",
    "import pytorch_lightning as pl\n",
    "\n",
    "%matplotlib inline"
   ]
  },
  {
   "cell_type": "code",
   "execution_count": 2,
   "id": "85f08c5c-5fc4-4498-911f-ff5302e63461",
   "metadata": {
    "pycharm": {
     "name": "#%%\n"
    }
   },
   "outputs": [
    {
     "name": "stderr",
     "output_type": "stream",
     "text": [
      "Global seed set to 72\n"
     ]
    },
    {
     "data": {
      "text/plain": [
       "72"
      ]
     },
     "execution_count": 2,
     "metadata": {},
     "output_type": "execute_result"
    }
   ],
   "source": [
    "pl.seed_everything(72)"
   ]
  },
  {
   "cell_type": "code",
   "execution_count": 3,
   "id": "3ac1bc15-e75d-420f-a56d-448904ce44cf",
   "metadata": {},
   "outputs": [],
   "source": [
    "ckpts_path = \"ckpts/dino.ckpt\""
   ]
  },
  {
   "cell_type": "code",
   "execution_count": 4,
   "id": "c2ea00df-13a1-4a40-b58b-e6b4e1abeb98",
   "metadata": {
    "pycharm": {
     "name": "#%%\n"
    }
   },
   "outputs": [],
   "source": [
    "xs = torch.load(ckpts_path, map_location=\"cpu\")"
   ]
  },
  {
   "cell_type": "code",
   "execution_count": 5,
   "id": "6412cf9a-b6a6-4666-ac62-47c3f86a3796",
   "metadata": {
    "pycharm": {
     "name": "#%%\n"
    }
   },
   "outputs": [
    {
     "data": {
      "text/plain": [
       "dict_keys(['epoch', 'global_step', 'pytorch-lightning_version', 'state_dict', 'callbacks', 'optimizer_states', 'lr_schedulers', 'hparams_name', 'hyper_parameters'])"
      ]
     },
     "execution_count": 5,
     "metadata": {},
     "output_type": "execute_result"
    }
   ],
   "source": [
    "xs.keys()"
   ]
  },
  {
   "cell_type": "code",
   "execution_count": 8,
   "id": "00d0c4c0-2bd8-4f81-be3e-cbd82da9ec84",
   "metadata": {},
   "outputs": [],
   "source": [
    "xs[\"hyper_parameters\"][\"mpnn_opts\"][\"mpnn_dev\"]=\"cpu\""
   ]
  },
  {
   "cell_type": "code",
   "execution_count": 10,
   "id": "24c65e79-db09-4ed2-8ab1-0001cff8317f",
   "metadata": {},
   "outputs": [
    {
     "name": "stdout",
     "output_type": "stream",
     "text": [
      "MultiHeadDotProduct\n"
     ]
    },
    {
     "name": "stderr",
     "output_type": "stream",
     "text": [
      "/Users/ojas/miniforge3/envs/ai/lib/python3.9/site-packages/torch/nn/init.py:403: UserWarning: Initializing zero-element tensors is a no-op\n",
      "  warnings.warn(\"Initializing zero-element tensors is a no-op\")\n"
     ]
    }
   ],
   "source": [
    "model = DINO(**xs[\"hyper_parameters\"])"
   ]
  },
  {
   "cell_type": "code",
   "execution_count": 13,
   "id": "76ad4485-cb2a-458c-8b21-ae3e332b099b",
   "metadata": {
    "pycharm": {
     "name": "#%%\n"
    }
   },
   "outputs": [
    {
     "name": "stdout",
     "output_type": "stream",
     "text": [
      "MultiHeadDotProduct\n"
     ]
    },
    {
     "name": "stderr",
     "output_type": "stream",
     "text": [
      "/Users/ojas/miniforge3/envs/ai/lib/python3.9/site-packages/torch/nn/init.py:403: UserWarning: Initializing zero-element tensors is a no-op\n",
      "  warnings.warn(\"Initializing zero-element tensors is a no-op\")\n"
     ]
    }
   ],
   "source": [
    "model = model.load_from_checkpoint(ckpts_path, **xs[\"hyper_parameters\"])"
   ]
  },
  {
   "cell_type": "code",
   "execution_count": 14,
   "id": "18eb55a3-e5fa-4ee7-926d-a30ac82421c7",
   "metadata": {
    "pycharm": {
     "name": "#%%\n"
    }
   },
   "outputs": [],
   "source": [
    "conf = OmegaConf.load(\"configs/local/edge.yml\")[\"data\"]"
   ]
  },
  {
   "cell_type": "code",
   "execution_count": 15,
   "id": "994a25ca-41e1-4b7d-9978-abb95dd7bb56",
   "metadata": {
    "pycharm": {
     "name": "#%%\n"
    }
   },
   "outputs": [],
   "source": [
    "from save_features import LabelledDataset, save_features\n",
    "from torch.utils.data import DataLoader"
   ]
  },
  {
   "cell_type": "code",
   "execution_count": 16,
   "id": "a58a082e-9d34-46bf-8d68-b8935a582fb4",
   "metadata": {
    "pycharm": {
     "name": "#%%\n"
    }
   },
   "outputs": [],
   "source": [
    "train_classes = [\"n02687172\", \"n04251144\", \"n02823428\", \"n03676483\", \"n03400231\"]\n",
    "test_classes = [\"n03272010\", \"n07613480\", \"n03775546\", \"n03127925\", \"n04146614\"]\n",
    "trainset = LabelledDataset('miniimagenet', conf[\"datapath\"],\n",
    "                           'train', train_classes)\n",
    "testset = LabelledDataset('miniimagenet', conf[\"datapath\"],\n",
    "                          'test', test_classes)\n",
    "trainloader = DataLoader(trainset, shuffle=False, batch_size=100)\n",
    "testloader = DataLoader(testset, shuffle=False, batch_size=100)"
   ]
  },
  {
   "cell_type": "code",
   "execution_count": 17,
   "id": "d9e46c8f-8140-47cc-8c87-9e52c1b967e6",
   "metadata": {},
   "outputs": [],
   "source": [
    "idl = iter(trainloader)"
   ]
  },
  {
   "cell_type": "code",
   "execution_count": 18,
   "id": "4738f898-3e70-4323-b006-b0381c86bc25",
   "metadata": {},
   "outputs": [],
   "source": [
    "x, y = next(idl)"
   ]
  },
  {
   "cell_type": "code",
   "execution_count": 19,
   "id": "89854cd8-6c4b-47e4-a9a3-a2802eb2dc8a",
   "metadata": {},
   "outputs": [],
   "source": [
    "from torchvision.utils import make_grid, save_image"
   ]
  },
  {
   "cell_type": "code",
   "execution_count": 14,
   "id": "967c2e01-8445-4df1-8b6f-c68991e5dfc1",
   "metadata": {},
   "outputs": [],
   "source": [
    "save_image(x, \"batch.png\")"
   ]
  },
  {
   "cell_type": "code",
   "execution_count": 20,
   "id": "55c93b29-259c-42e8-a5db-e28262bceb00",
   "metadata": {
    "pycharm": {
     "name": "#%%\n"
    }
   },
   "outputs": [
    {
     "name": "stdout",
     "output_type": "stream",
     "text": [
      "0/30\n",
      "10/30\n",
      "20/30\n"
     ]
    }
   ],
   "source": [
    "fe = save_features(model.student_backbone, trainloader, \"dino_student_features.hdf5\")"
   ]
  },
  {
   "cell_type": "code",
   "execution_count": 21,
   "id": "755837cb-5276-46ca-8fca-0240eecdcbaa",
   "metadata": {
    "pycharm": {
     "name": "#%%\n"
    }
   },
   "outputs": [],
   "source": [
    "del fe"
   ]
  },
  {
   "cell_type": "code",
   "execution_count": 22,
   "id": "1bee13f9-e640-42a4-bf6e-316e119b8b14",
   "metadata": {
    "pycharm": {
     "name": "#%%\n"
    }
   },
   "outputs": [
    {
     "name": "stdout",
     "output_type": "stream",
     "text": [
      "0/30\n",
      "10/30\n",
      "20/30\n"
     ]
    }
   ],
   "source": [
    "fe = save_features(model.student_backbone, testloader, \"dino_student_test_features.hdf5\")"
   ]
  },
  {
   "cell_type": "code",
   "execution_count": 23,
   "id": "a3774db4-03d7-4681-b166-d678704e9f50",
   "metadata": {
    "pycharm": {
     "name": "#%%\n"
    }
   },
   "outputs": [],
   "source": [
    "del fe"
   ]
  },
  {
   "cell_type": "code",
   "execution_count": 24,
   "id": "0f838009-1f27-479c-a7e7-ca1af0d2f79b",
   "metadata": {
    "pycharm": {
     "name": "#%%\n"
    }
   },
   "outputs": [],
   "source": [
    "import h5py"
   ]
  },
  {
   "cell_type": "code",
   "execution_count": 25,
   "id": "ea175597-66ca-461d-87b0-256dd39df506",
   "metadata": {
    "pycharm": {
     "name": "#%%\n"
    }
   },
   "outputs": [],
   "source": [
    "f_train_cnn = h5py.File('dino_student_features.hdf5', 'r')\n",
    "f_test_cnn = h5py.File('dino_student_test_features.hdf5', 'r')"
   ]
  },
  {
   "cell_type": "code",
   "execution_count": 26,
   "id": "42b3713a-8a6c-4d07-9801-059a432d8d91",
   "metadata": {
    "pycharm": {
     "name": "#%%\n"
    }
   },
   "outputs": [],
   "source": [
    "X_cnn_5_train = f_train_cnn['all_feats']\n",
    "y_cnn_5_train = f_train_cnn['all_labels']\n",
    "X_cnn_5_test = f_test_cnn['all_feats']\n",
    "y_cnn_5_test = f_test_cnn['all_labels']"
   ]
  },
  {
   "cell_type": "code",
   "execution_count": 27,
   "id": "8e18e95c-c5be-4ca3-a611-8c8d93a923f4",
   "metadata": {
    "ExecuteTime": {
     "end_time": "2022-04-29T21:16:44.688146Z",
     "start_time": "2022-04-29T21:16:44.659870Z"
    },
    "pycharm": {
     "name": "#%%\n"
    }
   },
   "outputs": [],
   "source": [
    "import random\n",
    "import warnings\n",
    "import umap\n",
    "from sklearn.manifold import TSNE"
   ]
  },
  {
   "cell_type": "code",
   "execution_count": 28,
   "id": "cd7ff3bd-c8bb-4647-ada2-159b7cf63e9d",
   "metadata": {
    "ExecuteTime": {
     "end_time": "2022-04-29T21:16:45.160575Z",
     "start_time": "2022-04-29T21:16:45.112567Z"
    },
    "pycharm": {
     "name": "#%%\n"
    }
   },
   "outputs": [],
   "source": [
    "train_protoclr_idx = random.sample(range(len(y_cnn_5_train)),500)\n",
    "train_protoclr_idx.sort()\n",
    "\n",
    "X_cnn_5_train = X_cnn_5_train[train_protoclr_idx]\n",
    "y_cnn_5_train = y_cnn_5_train[train_protoclr_idx]\n",
    "\n",
    "test_protoclr_idx = random.sample(range(len(y_cnn_5_test)),500)\n",
    "test_protoclr_idx.sort()\n",
    "\n",
    "X_cnn_5_test = X_cnn_5_test[test_protoclr_idx]\n",
    "y_cnn_5_test = y_cnn_5_test[test_protoclr_idx]"
   ]
  },
  {
   "cell_type": "code",
   "execution_count": 30,
   "id": "ef3d251f-0f04-4e0f-bf84-990781322f0e",
   "metadata": {
    "ExecuteTime": {
     "end_time": "2022-04-29T21:16:49.938131Z",
     "start_time": "2022-04-29T21:16:46.280552Z"
    },
    "pycharm": {
     "name": "#%%\n"
    }
   },
   "outputs": [
    {
     "name": "stderr",
     "output_type": "stream",
     "text": [
      "/Users/ojas/miniforge3/envs/ai/lib/python3.9/site-packages/sklearn/manifold/_t_sne.py:780: FutureWarning: The default initialization in TSNE will change from 'random' to 'pca' in 1.2.\n",
      "  warnings.warn(\n",
      "/Users/ojas/miniforge3/envs/ai/lib/python3.9/site-packages/sklearn/manifold/_t_sne.py:790: FutureWarning: The default learning rate in TSNE will change from 200.0 to 'auto' in 1.2.\n",
      "  warnings.warn(\n"
     ]
    }
   ],
   "source": [
    "um = TSNE(n_components=2, random_state=0)\n",
    "X_cnn_2d_train = um.fit_transform(X_cnn_5_train)"
   ]
  },
  {
   "cell_type": "code",
   "execution_count": 31,
   "id": "0ea9e75e-8152-4482-a407-8fe57462fc5f",
   "metadata": {
    "ExecuteTime": {
     "end_time": "2022-04-29T21:16:51.830713Z",
     "start_time": "2022-04-29T21:16:50.676901Z"
    },
    "pycharm": {
     "name": "#%%\n"
    }
   },
   "outputs": [
    {
     "name": "stderr",
     "output_type": "stream",
     "text": [
      "/Users/ojas/miniforge3/envs/ai/lib/python3.9/site-packages/sklearn/manifold/_t_sne.py:780: FutureWarning: The default initialization in TSNE will change from 'random' to 'pca' in 1.2.\n",
      "  warnings.warn(\n",
      "/Users/ojas/miniforge3/envs/ai/lib/python3.9/site-packages/sklearn/manifold/_t_sne.py:790: FutureWarning: The default learning rate in TSNE will change from 200.0 to 'auto' in 1.2.\n",
      "  warnings.warn(\n"
     ]
    }
   ],
   "source": [
    "um = TSNE(n_components=2, random_state=0)\n",
    "X_cnn_2d_test = um.fit_transform(X_cnn_5_test)"
   ]
  },
  {
   "cell_type": "code",
   "execution_count": 32,
   "id": "3efbbbc7-af71-49b7-9c70-b08f7613a6ac",
   "metadata": {
    "ExecuteTime": {
     "end_time": "2022-04-29T21:16:54.056769Z",
     "start_time": "2022-04-29T21:16:54.028589Z"
    },
    "pycharm": {
     "name": "#%%\n"
    }
   },
   "outputs": [],
   "source": [
    "def plot2d(X_2d, y,colors=None, title=None, save_as=None):\n",
    "    target_ids = range(5)\n",
    "    labels_train = [\"Class {}\".format(i) for i in range(1,6)]\n",
    "\n",
    "    from matplotlib import pyplot as plt\n",
    "    fig = plt.figure(figsize=(11.7,8.27))\n",
    "    ax = fig.add_subplot(111)\n",
    "    #colors = 'r', 'g', 'b', 'c', 'm'#, 'y', 'k', 'w', 'orange', 'purple'\n",
    "    \n",
    "    markers = \"o\",\"D\",\"*\",\"^\",\"P\"\n",
    "    #print(len(colors))\n",
    "    for i, c, label, marker in zip(target_ids, colors, labels_train, markers):\n",
    "        ax.scatter(X_2d[y == i, 0],\n",
    "                   X_2d[y == i, 1], \n",
    "                   c=c, label=label, marker=marker)\n",
    "    #plt.legend()\n",
    "    ax.set_xticks([])\n",
    "    ax.set_yticks([])\n",
    "    sns.despine(left=True, bottom=True)\n",
    "    plt.legend(loc='lower right')\n",
    "    if save_as:\n",
    "        plt.savefig(save_as, bbox_inches = 'tight',\n",
    "            pad_inches = 0)\n",
    "    if title:\n",
    "        plt.title(title)\n",
    "    plt.show()"
   ]
  },
  {
   "cell_type": "code",
   "execution_count": 33,
   "id": "1b6fc92c-4cf3-477d-9193-44c42ccf1ada",
   "metadata": {
    "ExecuteTime": {
     "end_time": "2022-04-29T21:16:55.467853Z",
     "start_time": "2022-04-29T21:16:55.438345Z"
    },
    "pycharm": {
     "name": "#%%\n"
    }
   },
   "outputs": [],
   "source": [
    "colors = plt.rcParams['axes.prop_cycle'].by_key()['color']"
   ]
  },
  {
   "cell_type": "code",
   "execution_count": 34,
   "id": "70236ee5-28ad-4d63-96e6-7df29c85fbba",
   "metadata": {
    "pycharm": {
     "name": "#%%\n"
    }
   },
   "outputs": [],
   "source": [
    "sns.set_theme()"
   ]
  },
  {
   "cell_type": "code",
   "execution_count": 35,
   "id": "2f0fffeb-a453-4ef2-936b-fe871b12caa5",
   "metadata": {
    "pycharm": {
     "name": "#%%\n"
    }
   },
   "outputs": [
    {
     "data": {
      "image/png": "[encoded data removed]",
      "text/plain": [
       "<Figure size 842.4x595.44 with 1 Axes>"
      ]
     },
     "metadata": {},
     "output_type": "display_data"
    }
   ],
   "source": [
    "with warnings.catch_warnings():\n",
    "    warnings.simplefilter(\"ignore\")\n",
    "    plot2d(X_2d=X_cnn_2d_train, \n",
    "           y=y_cnn_5_train,\n",
    "           colors=colors[:5],\n",
    "           title=\"DINO CNN only train classes0\")"
   ]
  },
  {
   "cell_type": "code",
   "execution_count": 36,
   "id": "730009e8-6907-4a3c-9a09-d13c1385ecba",
   "metadata": {
    "pycharm": {
     "name": "#%%\n"
    }
   },
   "outputs": [
    {
     "data": {
      "image/png": "[encoded data removed]",
      "text/plain": [
       "<Figure size 842.4x595.44 with 1 Axes>"
      ]
     },
     "metadata": {},
     "output_type": "display_data"
    }
   ],
   "source": [
    "plot2d(X_2d=X_cnn_2d_test, \n",
    "       y=y_cnn_5_test,\n",
    "       colors=colors[5:],\n",
    "       title=\"DINO CNN test classes\")"
   ]
  },
  {
   "cell_type": "code",
   "execution_count": null,
   "id": "1c694ddb-b27a-42cc-a510-fb90c3ba9643",
   "metadata": {
    "pycharm": {
     "name": "#%%\n"
    }
   },
   "outputs": [],
   "source": []
  }
 ],
 "metadata": {
  "kernelspec": {
   "display_name": "Python 3 (ipykernel)",
   "language": "python",
   "name": "python3"
  },
  "language_info": {
   "codemirror_mode": {
    "name": "ipython",
    "version": 3
   },
   "file_extension": ".py",
   "mimetype": "text/x-python",
   "name": "python",
   "nbconvert_exporter": "python",
   "pygments_lexer": "ipython3",
   "version": "3.9.12"
  }
 },
 "nbformat": 4,
 "nbformat_minor": 5
}
